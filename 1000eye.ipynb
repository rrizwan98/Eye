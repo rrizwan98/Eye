{
  "nbformat": 4,
  "nbformat_minor": 0,
  "metadata": {
    "colab": {
      "name": "1000eye.ipynb",
      "provenance": [],
      "authorship_tag": "ABX9TyMAbnfYXarsQU/93sGEzi9w",
      "include_colab_link": true
    },
    "kernelspec": {
      "name": "python3",
      "display_name": "Python 3"
    }
  },
  "cells": [
    {
      "cell_type": "markdown",
      "metadata": {
        "id": "view-in-github",
        "colab_type": "text"
      },
      "source": [
        "<a href=\"https://colab.research.google.com/github/rrizwan98/Eye/blob/main/1000eye.ipynb\" target=\"_parent\"><img src=\"https://colab.research.google.com/assets/colab-badge.svg\" alt=\"Open In Colab\"/></a>"
      ]
    },
    {
      "cell_type": "code",
      "metadata": {
        "id": "cbPxpAc0JZXC"
      },
      "source": [
        "from google.colab import drive\n",
        "drive.mount('/content/drive')"
      ],
      "execution_count": null,
      "outputs": []
    },
    {
      "cell_type": "code",
      "metadata": {
        "id": "gsN_E7ZLJiKe",
        "colab": {
          "base_uri": "https://localhost:8080/",
          "height": 34
        },
        "outputId": "63d59d37-06f2-48dd-ae01-7f9203c03ae9"
      },
      "source": [
        "from zipfile import ZipFile\n",
        "file_name='/content/drive/My Drive/1000.zip'\n",
        "with ZipFile (file_name, 'r') as zip:\n",
        "  zip.extractall()\n",
        "  print('raza')"
      ],
      "execution_count": null,
      "outputs": [
        {
          "output_type": "stream",
          "text": [
            "raza\n"
          ],
          "name": "stdout"
        }
      ]
    },
    {
      "cell_type": "code",
      "metadata": {
        "id": "F48LToETNJ8j"
      },
      "source": [
        "import tensorflow as tf\n",
        "import pandas as pd\n",
        "import numpy as np\n",
        "from tensorflow.keras.models import Sequential\n",
        "from tensorflow.keras.layers import Flatten,MaxPool2D,Dense,Conv2D\n",
        "from tensorflow import keras\n",
        "layers = keras.layers\n",
        "models = keras.models"
      ],
      "execution_count": null,
      "outputs": []
    },
    {
      "cell_type": "code",
      "metadata": {
        "id": "VdLC4k1sNtf5"
      },
      "source": [
        "model=Sequential()\n",
        "model.add(Conv2D(64,(3,3),activation='relu',input_shape=(64,64,3)))\n",
        "model.add(MaxPool2D(2,2))\n",
        "\n",
        "model.add(Conv2D(32,(3,3),activation='relu'))\n",
        "model.add(MaxPool2D(2,2))\n",
        "\n",
        "model.add(Flatten())\n",
        "\n",
        "model.add(layers.Dense(128,activation='relu'))\n",
        "model.add(layers.Dense(39,activation='softmax'))\n",
        "\n",
        "model.compile(loss='categorical_crossentropy',optimizer='adam',metrics=['accuracy'])"
      ],
      "execution_count": null,
      "outputs": []
    },
    {
      "cell_type": "code",
      "metadata": {
        "id": "VGCeUs0ePMVt",
        "colab": {
          "base_uri": "https://localhost:8080/",
          "height": 51
        },
        "outputId": "ea93e7f8-ef32-4252-b599-a759ad3fa07b"
      },
      "source": [
        "from keras.preprocessing.image import ImageDataGenerator\n",
        "\n",
        "train_datagen = ImageDataGenerator(rescale=1./255)\n",
        "\n",
        "test_datagen = ImageDataGenerator(rescale=1./255)\n",
        "\n",
        "train_set = train_datagen.flow_from_directory('/content/1000/train',\n",
        "                                              target_size=(64,64),\n",
        "                                              batch_size=32,\n",
        "                                              class_mode='categorical')\n",
        "\n",
        "test_set = train_datagen.flow_from_directory('/content/1000/test',\n",
        "                                            target_size=(64, 64),\n",
        "                                            batch_size=32,\n",
        "                                            class_mode='categorical')\n"
      ],
      "execution_count": null,
      "outputs": [
        {
          "output_type": "stream",
          "text": [
            "Found 1000 images belonging to 39 classes.\n",
            "Found 310 images belonging to 39 classes.\n"
          ],
          "name": "stdout"
        }
      ]
    },
    {
      "cell_type": "code",
      "metadata": {
        "id": "EIUERwCUQpfB",
        "colab": {
          "base_uri": "https://localhost:8080/",
          "height": 309
        },
        "outputId": "7147aabc-d39a-4810-fb8c-3a4e7cb07774"
      },
      "source": [
        "history=model.fit(\n",
        "    train_set,\n",
        "    steps_per_epoch=200,\n",
        "    epochs=8,\n",
        "    validation_data=test_set,\n",
        "    validation_steps=10)"
      ],
      "execution_count": null,
      "outputs": [
        {
          "output_type": "stream",
          "text": [
            "Epoch 1/8\n",
            "200/200 [==============================] - 567s 3s/step - loss: 2.2878 - accuracy: 0.3692 - val_loss: 1.9732 - val_accuracy: 0.3935\n",
            "Epoch 2/8\n",
            "200/200 [==============================] - 567s 3s/step - loss: 1.4131 - accuracy: 0.5799 - val_loss: 1.0512 - val_accuracy: 0.7129\n",
            "Epoch 3/8\n",
            "200/200 [==============================] - 565s 3s/step - loss: 0.8679 - accuracy: 0.7402 - val_loss: 0.5897 - val_accuracy: 0.8226\n",
            "Epoch 4/8\n",
            "200/200 [==============================] - 563s 3s/step - loss: 0.4224 - accuracy: 0.8837 - val_loss: 0.2548 - val_accuracy: 0.9323\n",
            "Epoch 5/8\n",
            "200/200 [==============================] - 567s 3s/step - loss: 0.2235 - accuracy: 0.9460 - val_loss: 0.1228 - val_accuracy: 0.9710\n",
            "Epoch 6/8\n",
            "200/200 [==============================] - 566s 3s/step - loss: 0.1103 - accuracy: 0.9752 - val_loss: 0.0466 - val_accuracy: 1.0000\n",
            "Epoch 7/8\n",
            "200/200 [==============================] - 568s 3s/step - loss: 0.1003 - accuracy: 0.9747 - val_loss: 0.0292 - val_accuracy: 1.0000\n",
            "Epoch 8/8\n",
            "200/200 [==============================] - 566s 3s/step - loss: 0.0246 - accuracy: 0.9968 - val_loss: 0.0116 - val_accuracy: 1.0000\n"
          ],
          "name": "stdout"
        }
      ]
    },
    {
      "cell_type": "code",
      "metadata": {
        "id": "K6Tg8qa0Q5fB",
        "colab": {
          "base_uri": "https://localhost:8080/",
          "height": 34
        },
        "outputId": "e79866d2-0032-4562-df8a-afc74f271f99"
      },
      "source": [
        "from tensorflow.keras.preprocessing import image\n",
        "test_image=image.load_img('/content/1000/sample/1ffa92b3-8d87-11e8-9daf-6045cb817f5b..JPG',target_size=(64,64))\n",
        "test_image=image.img_to_array(test_image)\n",
        "test_image=np.expand_dims(test_image,axis=0)\n",
        "result=model.predict(test_image)\n",
        "train_set.class_indices\n",
        "if result[0][0]==1:\n",
        "  prediction='eye1'\n",
        "  print(pridiction)\n",
        "else:\n",
        "  prediction='eye2'\n",
        "  print(prediction)"
      ],
      "execution_count": null,
      "outputs": [
        {
          "output_type": "stream",
          "text": [
            "eye2\n"
          ],
          "name": "stdout"
        }
      ]
    },
    {
      "cell_type": "code",
      "metadata": {
        "id": "XXoRj4YCrQVj"
      },
      "source": [
        ""
      ],
      "execution_count": null,
      "outputs": []
    }
  ]
}